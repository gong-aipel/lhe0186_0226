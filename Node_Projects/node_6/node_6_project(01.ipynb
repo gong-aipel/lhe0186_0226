import sklearn

print(sklearn.__version__)

from sklearn.datasets import load_digits
from sklearn.model_selection import train_test_split
from sklearn.metrics import classification_report

digits = load_digits()
digits_data = digits.data
digits_label = digits.target

print(digits.keys())

print(digits_data.shape)

print(digits.target)

print(digits.target_names)

print(digits.feature_names)

print(digits.DESCR)

X_train, X_test, y_train, y_test = train_test_split(digits_data,
                                                    digits_label,
                                                    test_size = 0.2,
                                                    random_state = 7 )

# Decision Tree

from sklearn.tree import DecisionTreeClassifier

decision_tree = DecisionTreeClassifier(random_state = 15)
decision_tree.fit(X_train, y_train)
y_pred = decision_tree.predict(X_test)
DT_report = classification_report(y_test, y_pred)
print(DT_report)

# Random Forest

from sklearn.ensemble import RandomForestClassifier

random_forest = RandomForestClassifier(random_state = 15)
random_forest.fit(X_train, y_train)
y_pred = random_forest.predict(X_test)
RF_report = classification_report(y_test, y_pred)
print(RF_report)

# SVM

from sklearn import svm

svm_model = svm.SVC()
svm_model.fit(X_train, y_train)
y_pred = svm_model.predict(X_test)
SVM_report = classification_report(y_test, y_pred)
print(SVM_report)

# SGD

from sklearn.linear_model import SGDClassifier

sgd_model = SGDClassifier()
sgd_model.fit(X_train, y_train)
y_pred = sgd_model.predict(X_test)
SGD_report = classification_report(y_test, y_pred)
print(SGD_report)

# Logistic Regression

from sklearn.linear_model import LogisticRegression

logistic_model = LogisticRegression()
logistic_model.fit(X_train, y_train)
y_pred = logistic_model.predict(X_test)
LR_report = classification_report(y_test, y_pred)
print(LR_report)

# 모델 평가:
  학습 내용이 간단한 손글씨 숫자 판별하는 것이기 때문에 숫자를 얼마나 정확하게 판단하는가에 중점을 두어 정확도가 가장 중요하다고 생각합니다. 따라서 전체적으로 모델들의 정확도를 비교해봤을 때 정확도가 가장 높은 SVM 모델이 학습이 제일 잘된 모델이라고 생각합니다. 

